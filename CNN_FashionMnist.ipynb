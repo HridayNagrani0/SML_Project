{
 "cells": [
  {
   "cell_type": "code",
   "execution_count": 1,
   "id": "9a7a1d6e-13bb-4f58-ac36-c871c352a685",
   "metadata": {},
   "outputs": [
    {
     "name": "stdout",
     "output_type": "stream",
     "text": [
      "Downloading http://fashion-mnist.s3-website.eu-central-1.amazonaws.com/train-images-idx3-ubyte.gz\n",
      "Downloading http://fashion-mnist.s3-website.eu-central-1.amazonaws.com/train-images-idx3-ubyte.gz to ./data/FashionMNIST/raw/train-images-idx3-ubyte.gz\n"
     ]
    },
    {
     "name": "stderr",
     "output_type": "stream",
     "text": [
      "100%|█████████████████████████████████████████████████████████████████| 26421880/26421880 [00:02<00:00, 10459478.57it/s]\n"
     ]
    },
    {
     "name": "stdout",
     "output_type": "stream",
     "text": [
      "Extracting ./data/FashionMNIST/raw/train-images-idx3-ubyte.gz to ./data/FashionMNIST/raw\n",
      "\n",
      "Downloading http://fashion-mnist.s3-website.eu-central-1.amazonaws.com/train-labels-idx1-ubyte.gz\n",
      "Downloading http://fashion-mnist.s3-website.eu-central-1.amazonaws.com/train-labels-idx1-ubyte.gz to ./data/FashionMNIST/raw/train-labels-idx1-ubyte.gz\n"
     ]
    },
    {
     "name": "stderr",
     "output_type": "stream",
     "text": [
      "100%|█████████████████████████████████████████████████████████████████████████| 29515/29515 [00:00<00:00, 182792.41it/s]\n"
     ]
    },
    {
     "name": "stdout",
     "output_type": "stream",
     "text": [
      "Extracting ./data/FashionMNIST/raw/train-labels-idx1-ubyte.gz to ./data/FashionMNIST/raw\n",
      "\n",
      "Downloading http://fashion-mnist.s3-website.eu-central-1.amazonaws.com/t10k-images-idx3-ubyte.gz\n",
      "Downloading http://fashion-mnist.s3-website.eu-central-1.amazonaws.com/t10k-images-idx3-ubyte.gz to ./data/FashionMNIST/raw/t10k-images-idx3-ubyte.gz\n"
     ]
    },
    {
     "name": "stderr",
     "output_type": "stream",
     "text": [
      "100%|████████████████████████████████████████████████████████████████████| 4422102/4422102 [00:01<00:00, 3349986.68it/s]\n"
     ]
    },
    {
     "name": "stdout",
     "output_type": "stream",
     "text": [
      "Extracting ./data/FashionMNIST/raw/t10k-images-idx3-ubyte.gz to ./data/FashionMNIST/raw\n",
      "\n",
      "Downloading http://fashion-mnist.s3-website.eu-central-1.amazonaws.com/t10k-labels-idx1-ubyte.gz\n",
      "Downloading http://fashion-mnist.s3-website.eu-central-1.amazonaws.com/t10k-labels-idx1-ubyte.gz to ./data/FashionMNIST/raw/t10k-labels-idx1-ubyte.gz\n"
     ]
    },
    {
     "name": "stderr",
     "output_type": "stream",
     "text": [
      "100%|█████████████████████████████████████████████████████████████████████████| 5148/5148 [00:00<00:00, 11955856.58it/s]\n"
     ]
    },
    {
     "name": "stdout",
     "output_type": "stream",
     "text": [
      "Extracting ./data/FashionMNIST/raw/t10k-labels-idx1-ubyte.gz to ./data/FashionMNIST/raw\n",
      "\n"
     ]
    }
   ],
   "source": [
    "import torch\n",
    "import torch.nn as nn\n",
    "import torch.optim as optim\n",
    "from torch.utils.data import DataLoader, TensorDataset\n",
    "from torchvision import datasets, transforms\n",
    "from sklearn.model_selection import ParameterGrid\n",
    "import json\n",
    "\n",
    "class FashionMNISTDataset:\n",
    "    def __init__(self, batch_size=64):\n",
    "        self.device = torch.device(\"cuda\" if torch.cuda.is_available() else \"cpu\")\n",
    "        self.epochs = 10\n",
    "        self.batch_size = batch_size\n",
    "\n",
    "        # Load and preprocess Fashion MNIST dataset\n",
    "        self.load_dataset()\n",
    "\n",
    "    def load_dataset(self):\n",
    "        transform = transforms.Compose([\n",
    "            transforms.ToTensor(),\n",
    "            transforms.Normalize((0.5,), (0.5,))\n",
    "        ])\n",
    "\n",
    "        # Download Fashion MNIST dataset\n",
    "        train_dataset = datasets.FashionMNIST(root='./data', train=True, download=True, transform=transform)\n",
    "        test_dataset = datasets.FashionMNIST(root='./data', train=False, download=True, transform=transform)\n",
    "\n",
    "        # Create DataLoader\n",
    "        self.train_loader = DataLoader(train_dataset, batch_size=self.batch_size, shuffle=True)\n",
    "        self.test_loader = DataLoader(test_dataset, batch_size=self.batch_size, shuffle=False)\n",
    "\n",
    "\n",
    "class CNN(nn.Module):\n",
    "    def __init__(self, conv1_out_channels, conv2_out_channels, fc1_out_features, dropout_prob=0.0):\n",
    "        super(CNN, self).__init__()\n",
    "        self.conv1 = nn.Conv2d(1, conv1_out_channels, kernel_size=3, stride=1, padding=1)\n",
    "        self.relu = nn.ReLU()\n",
    "        self.maxpool = nn.MaxPool2d(kernel_size=2, stride=2)\n",
    "        self.conv2 = nn.Conv2d(conv1_out_channels, conv2_out_channels, kernel_size=3, stride=1, padding=1)\n",
    "        self.flatten = nn.Flatten()\n",
    "        self.fc1 = nn.Linear(conv2_out_channels * 7 * 7, fc1_out_features)\n",
    "        self.dropout = nn.Dropout(dropout_prob)\n",
    "        self.fc2 = nn.Linear(fc1_out_features, 10)\n",
    "\n",
    "    def forward(self, x):\n",
    "        x = self.conv1(x)\n",
    "        x = self.relu(x)\n",
    "        x = self.maxpool(x)\n",
    "        x = self.conv2(x)\n",
    "        x = self.relu(x)\n",
    "        x = self.maxpool(x)\n",
    "        x = self.flatten(x)\n",
    "        x = self.fc1(x)\n",
    "        x = self.relu(x)\n",
    "        x = self.dropout(x)\n",
    "        x = self.fc2(x)\n",
    "        return x\n",
    "\n",
    "\n",
    "class FashionMNISTTrainer:\n",
    "    def __init__(self, model, train_loader, test_loader, criterion):\n",
    "        self.model = model\n",
    "        self.train_loader = train_loader\n",
    "        self.test_loader = test_loader\n",
    "        self.criterion = criterion\n",
    "\n",
    "    def train(self, optimizer, epochs):\n",
    "        results = {}\n",
    "        for epoch in range(epochs):\n",
    "            self.model.train()\n",
    "            total_loss = 0\n",
    "            correct_train = 0\n",
    "            total_train = 0\n",
    "\n",
    "            for inputs, labels in self.train_loader:\n",
    "                optimizer.zero_grad()\n",
    "                outputs = self.model(inputs.to(dataset.device))\n",
    "                loss = self.criterion(outputs, labels.to(dataset.device))\n",
    "                loss.backward()\n",
    "                optimizer.step()\n",
    "                total_loss += loss.item()\n",
    "\n",
    "                # Calculate accuracy during training\n",
    "                _, predicted = torch.max(outputs, 1)\n",
    "                correct_train += (predicted == labels.to(dataset.device)).sum().item()\n",
    "                total_train += labels.size(0)\n",
    "\n",
    "            # Log training loss and accuracy\n",
    "            average_train_loss = total_loss / len(self.train_loader)\n",
    "            accuracy_train = correct_train / total_train\n",
    "\n",
    "            # Evaluate the model on the test set\n",
    "            self.model.eval()\n",
    "            with torch.no_grad():\n",
    "                total_test_loss = 0\n",
    "                correct_test = 0\n",
    "                total_test = 0\n",
    "\n",
    "                for inputs, labels in self.test_loader:\n",
    "                    outputs = self.model(inputs.to(dataset.device))\n",
    "                    loss = self.criterion(outputs, labels.to(dataset.device))\n",
    "                    total_test_loss += loss.item()\n",
    "\n",
    "                    # Calculate accuracy during testing\n",
    "                    _, predicted = torch.max(outputs, 1)\n",
    "                    correct_test += (predicted == labels.to(dataset.device)).sum().item()\n",
    "                    total_test += labels.size(0)\n",
    "\n",
    "                # Log testing loss and accuracy\n",
    "                average_test_loss = total_test_loss / len(self.test_loader)\n",
    "                accuracy_test = correct_test / total_test\n",
    "\n",
    "            # Save results for the current epoch\n",
    "            result = {\n",
    "                'train_loss': average_train_loss,\n",
    "                'val_loss': average_test_loss,\n",
    "                'val_accuracy': accuracy_test,\n",
    "                'train_accuracy': accuracy_train\n",
    "            }\n",
    "            \n",
    "            results[\"values\"][epoch + 1] = result\n",
    "        with torch.no_grad():\n",
    "            total_test_loss = 0\n",
    "            correct_test = 0\n",
    "            total_test = 0\n",
    "\n",
    "            for inputs, labels in self.test_loader:\n",
    "                outputs = self.model(inputs.to(dataset.device))\n",
    "                loss = self.criterion(outputs, labels.to(dataset.device))\n",
    "                total_test_loss += loss.item()\n",
    "\n",
    "                # Calculate accuracy during testing\n",
    "                _, predicted = torch.max(outputs, 1)\n",
    "                correct_test += (predicted == labels.to(dataset.device)).sum().item()\n",
    "                total_test += labels.size(0)\n",
    "\n",
    "            # Log testing loss and accuracy\n",
    "            average_test_loss = total_test_loss / len(self.test_loader)\n",
    "            accuracy_test = correct_test / total_test\n",
    "        \n",
    "\n",
    "        return results\n",
    "\n",
    "\n",
    "class GridSearch:\n",
    "    def __init__(self, model_class, param_grid, dataset, train_loader, test_loader, criterion):\n",
    "        self.model_class = model_class\n",
    "        self.param_grid = param_grid\n",
    "        self.dataset = dataset\n",
    "        self.train_loader = train_loader\n",
    "        self.test_loader = test_loader\n",
    "        self.criterion = criterion\n",
    "        self.results = {}\n",
    "\n",
    "    def perform_grid_search(self, epochs):\n",
    "        for param_set in ParameterGrid(self.param_grid):\n",
    "            conv1_out_channels = param_set['conv1_out_channels']\n",
    "            conv2_out_channels = param_set['conv2_out_channels']\n",
    "            fc1_out_features = param_set['fc1_out_features']\n",
    "            dropout_prob = param_set['dropout_prob']\n",
    "\n",
    "            model = self.model_class(conv1_out_channels, conv2_out_channels, fc1_out_features, dropout_prob)\n",
    "            model = model.to(self.dataset.device)\n",
    "\n",
    "            optimizer = optim.Adam(model.parameters())\n",
    "            \n",
    "            result = FashionMNISTTrainer(model, self.train_loader, self.test_loader, self.criterion).train(optimizer, epochs)\n",
    "\n",
    "            self.results[str(param_set)] = result\n",
    "\n",
    "        # Save results to a JSON file\n",
    "        json_filename = 'fashion_mnist_grid_search_results.json'\n",
    "        with open(json_filename, 'w') as json_file:\n",
    "            json.dump(self.results, json_file, indent=4)\n",
    "\n",
    "\n",
    "# Instantiate the FashionMNISTDataset class\n",
    "dataset = FashionMNISTDataset()\n",
    "\n",
    "# Define hyperparameters to tune\n",
    "param_grid = {\n",
    "    'conv1_out_channels': [16, 32],\n",
    "    'conv2_out_channels': [32, 64],\n",
    "    'fc1_out_features': [128, 256],\n",
    "    'dropout_prob': [0.0, 0.2, 0.4]\n",
    "}\n",
    "\n",
    "# Instantiate the GridSearch class and perform grid search\n",
    "grid_search = GridSearch(CNN, param_grid, dataset, dataset.train_loader, dataset.test_loader, nn.CrossEntropyLoss())\n",
    "grid_search.perform_grid_search(epochs=5)\n"
   ]
  },
  {
   "cell_type": "code",
   "execution_count": 9,
   "id": "d47acc56-612b-4aba-bbd6-79fd9dfe4889",
   "metadata": {},
   "outputs": [
    {
     "name": "stderr",
     "output_type": "stream",
     "text": [
      "No artists with labels found to put in legend.  Note that artists whose label start with an underscore are ignored when legend() is called with no argument.\n"
     ]
    },
    {
     "name": "stdout",
     "output_type": "stream",
     "text": [
      "Best Config with least test loss: {'train_loss': 0.17509445795483553, 'test_loss': 0.221880633597541, 'test_accuracy': 0.9195, 'train_accuracy': 0.9350333333333334}\n"
     ]
    },
    {
     "data": {
      "image/png": "[encoded data removed]",
      "text/plain": [
       "<Figure size 640x480 with 1 Axes>"
      ]
     },
     "metadata": {},
     "output_type": "display_data"
    }
   ],
   "source": [
    "import json\n",
    "import matplotlib.pyplot as plt\n",
    "\n",
    "def read_json_file(file_path):\n",
    "    with open(file_path, 'r') as file:\n",
    "        data = json.load(file)\n",
    "    return data\n",
    "\n",
    "def find_best_config(data):\n",
    "    min_test_loss = float('inf')\n",
    "    best_config = None\n",
    "\n",
    "    for key, value in data.items():\n",
    "        current_test_loss = value['test_loss']\n",
    "\n",
    "        if current_test_loss < min_test_loss:\n",
    "            min_test_loss = current_test_loss\n",
    "            best_config = value\n",
    "\n",
    "    return best_config\n",
    "\n",
    "def plot_accuracy_epochs(config):\n",
    "    # Assuming the epochs are not provided in this format, you may need to modify accordingly\n",
    "    train_accuracy = config.get('train_accuracy', [])  \n",
    "    test_accuracy = config.get('test_accuracy', [])\n",
    "    # epochs = list(range(1, len(train_accuracy) + 1))\n",
    "\n",
    "    # Bar chart instead of line plot\n",
    "    bar_width = 0.35\n",
    "    plt.bar([\"Training\", \"Testing\"], [train_accuracy, test_accuracy])\n",
    "    \n",
    "    plt.xlabel('Dataset')\n",
    "    plt.ylabel('Accuracy')\n",
    "    plt.title('Train vs Test Accuracy')\n",
    "    plt.legend()\n",
    "    plt.show()\n",
    "\n",
    "file_path = 'fashion_mnist_grid_search_results.json'\n",
    "json_data = read_json_file(file_path)\n",
    "\n",
    "best_config = find_best_config(json_data)\n",
    "print(f\"Best Config with least test loss: {best_config}\")\n",
    "\n",
    "# Plotting train vs test accuracy for the best config\n",
    "plot_accuracy_epochs(best_config)\n"
   ]
  },
  {
   "cell_type": "code",
   "execution_count": 5,
   "id": "5cd32cbf-8fe1-43ec-b1d6-074b22095b69",
   "metadata": {},
   "outputs": [
    {
     "data": {
      "image/png": "[encoded data removed]",
      "text/plain": [
       "<Figure size 640x480 with 1 Axes>"
      ]
     },
     "metadata": {},
     "output_type": "display_data"
    }
   ],
   "source": [
    "import json\n",
    "import matplotlib.pyplot as plt\n",
    "\n",
    "def read_json_file(file_path):\n",
    "    with open(file_path, 'r') as file:\n",
    "        data = json.load(file)\n",
    "    return data\n",
    "\n",
    "def plot_max_accuracy_vs_complexity(data):\n",
    "    complexities = []\n",
    "    max_test_accuracies = []\n",
    "\n",
    "    for key, value in data.items():\n",
    "        config_str = key.replace(\"'\", \"\\\"\")  # Replace single quotes with double quotes\n",
    "        config_dict = json.loads(config_str)\n",
    "        \n",
    "        complexity = config_dict['conv1_out_channels']*9+config_dict['conv2_out_channels']*9+config_dict['fc1_out_features']+10\n",
    "        max_test_accuracy = value['test_accuracy']\n",
    "\n",
    "        complexities.append(complexity)\n",
    "        max_test_accuracies.append(max_test_accuracy)\n",
    "\n",
    "    plt.scatter(complexities, max_test_accuracies)\n",
    "    plt.xlabel('Model Complexity (Sum of Config Values)')\n",
    "    plt.ylabel('Max Test Accuracy')\n",
    "    plt.title('Max Test Accuracy vs Model Complexity')\n",
    "    plt.show()\n",
    "\n",
    "file_path = 'fashion_mnist_grid_search_results.json'\n",
    "json_data = read_json_file(file_path)\n",
    "\n",
    "# Plotting max test accuracy vs model complexity\n",
    "plot_max_accuracy_vs_complexity(json_data)\n"
   ]
  },
  {
   "cell_type": "code",
   "execution_count": null,
   "id": "14f919e6-9fc5-47d5-8e07-1f04994ad743",
   "metadata": {},
   "outputs": [],
   "source": []
  }
 ],
 "metadata": {
  "kernelspec": {
   "display_name": "Python 3 (ipykernel)",
   "language": "python",
   "name": "python3"
  },
  "language_info": {
   "codemirror_mode": {
    "name": "ipython",
    "version": 3
   },
   "file_extension": ".py",
   "mimetype": "text/x-python",
   "name": "python",
   "nbconvert_exporter": "python",
   "pygments_lexer": "ipython3",
   "version": "3.8.18"
  }
 },
 "nbformat": 4,
 "nbformat_minor": 5
}
